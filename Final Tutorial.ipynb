{
 "cells": [
  {
   "cell_type": "markdown",
   "metadata": {},
   "source": [
    "# Studying the Fuel Economy of Cars Over Time\n",
    "**Ryan Eckenrod, Nathaniel Foote, Erica Phlek  \n",
    "CMSC320 Final Tutorial  \n",
    "5/19/17**\n",
    "\n",
    "\n",
    "An ever growing body of scientific research supports the theory that greenhouse gases emitted by human activity are [dangerously warming Earth's atomosphere.](https://climate.nasa.gov/evidence/) Modern transportation, often achieved by burning fossil fuels, is a significant contributor of these greenhouse gases, namely carbon dioxide (CO<sub>2</sub>). [The most recent estimates](https://www.epa.gov/ghgemissions/sources-greenhouse-gas-emissions) from the Environmental Protection Agency (EPA) indicate that transportation accounts for 27% of all greenhouse gas emissions in the United States, second only to electricity production. Of transportation emissions, [61% come from privately owned passenger cars and trucks,](https://www.epa.gov/greenvehicles/fast-facts-transportation-greenhouse-gas-emissions) which amounts to 16.5% of all American emissions.  \n",
    "\n",
    "Given the United States' [large emission footprint globally](https://www.epa.gov/ghgemissions/global-greenhouse-gas-emissions-data) and the significant contribution of greenhosue gases from private vehicles, the government is acting to reduce greenhouse gas emissions from cars and trucks sold in America. Under direction from President Obama in 2010, the EPA and the National Highway Traffic Safety Administration (NHTSA) [jointly developed new fuel economy standards](https://www.nhtsa.gov/laws-regulations/corporate-average-fuel-economy#9491) which car companies must meet in order to sell their vehicles. You can read more about the history, goals, and effectiveness of fuel economy standards in the United States and Europe [here](http://www.rff.org/files/document/file/RFF-PB-16-03.pdf), or about the Trump administration's efforts to review the latest standards [here](http://www.nbcnews.com/business/autos/trump-rolls-back-obama-era-fuel-economy-standards-n734256).  \n",
    "\n",
    "With fuel economy standards increasing over time, it stands to reason to that cars and trucks should be getting more fuel efficient over time as well. Beyond that, simple economics suggests that consumers should prefer to purchase more fuel efficient vehicles. Why get a car with 15mpg that's expensive to drive when you can get one with 30mpg, right? Thus, in this tutorial we explore the fuel efficiency of cars from 1984 to 2017. We obtained a CSV file with fuel economy measures for over 37,000 vehicle models sold in the United States since 1984 from [Kapsarc](https://datasource.kapsarc.org/explore/dataset/us-vehicle-fuel-economy-data-1984-2017/), a data science portal which scraped the data on 4/30/17 from [fueleconomy.gov](https://www.fueleconomy.gov/feg/ws/index.shtml), an EPA hosted site. How has the average highway mpg of vehicles changed over time compared to city mpg? Did the 2010 fuel economy standards signficantly change the rate of improvement in vehicle fuel efficieny? We'll aim to answer these and other questions while we explore this dataset."
   ]
  },
  {
   "cell_type": "code",
   "execution_count": null,
   "metadata": {
    "collapsed": true
   },
   "outputs": [],
   "source": []
  },
  {
   "cell_type": "code",
   "execution_count": null,
   "metadata": {
    "collapsed": true
   },
   "outputs": [],
   "source": []
  },
  {
   "cell_type": "code",
   "execution_count": null,
   "metadata": {
    "collapsed": true
   },
   "outputs": [],
   "source": []
  }
 ],
 "metadata": {
  "kernelspec": {
   "display_name": "Python 3",
   "language": "python",
   "name": "python3"
  },
  "language_info": {
   "codemirror_mode": {
    "name": "ipython",
    "version": 3
   },
   "file_extension": ".py",
   "mimetype": "text/x-python",
   "name": "python",
   "nbconvert_exporter": "python",
   "pygments_lexer": "ipython3",
   "version": "3.6.0"
  }
 },
 "nbformat": 4,
 "nbformat_minor": 2
}
